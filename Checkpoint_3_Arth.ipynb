{
  "nbformat": 4,
  "nbformat_minor": 0,
  "metadata": {
    "colab": {
      "provenance": [],
      "toc_visible": true,
      "authorship_tag": "ABX9TyOYaQkroF/y6+n4EE9aylwp",
      "include_colab_link": true
    },
    "kernelspec": {
      "name": "python3",
      "display_name": "Python 3"
    },
    "language_info": {
      "name": "python"
    }
  },
  "cells": [
    {
      "cell_type": "markdown",
      "metadata": {
        "id": "view-in-github",
        "colab_type": "text"
      },
      "source": [
        "<a href=\"https://colab.research.google.com/github/tomCodes01/woc5.0-ml-weather-prediction-case-study-arthdetroja/blob/main/Checkpoint_3_Arth.ipynb\" target=\"_parent\"><img src=\"https://colab.research.google.com/assets/colab-badge.svg\" alt=\"Open In Colab\"/></a>"
      ]
    },
    {
      "cell_type": "code",
      "execution_count": 12,
      "metadata": {
        "id": "v9jQF0GO9krU"
      },
      "outputs": [],
      "source": [
        "import pandas as pd\n",
        "url = 'https://raw.githubusercontent.com/tomCodes01/woc5.0-ml-weather-prediction-case-study-arthdetroja/main/Youtube%20Influencer%20Analysis%20-%20Updated.csv'\n",
        "df = pd.read_csv(url,sep=\",\", encoding='cp1252')\n",
        "#print(df)"
      ]
    },
    {
      "cell_type": "code",
      "source": [
        "#Column wise null values\n",
        "null_values = df.isnull().sum()\n",
        "print(null_values)"
      ],
      "metadata": {
        "colab": {
          "base_uri": "https://localhost:8080/"
        },
        "id": "hMTgk9sHB1As",
        "outputId": "10191ca4-056f-4b27-d05f-d90ae630a37a"
      },
      "execution_count": 13,
      "outputs": [
        {
          "output_type": "stream",
          "name": "stdout",
          "text": [
            "Video Link                                 0\n",
            "Video Views                                0\n",
            "Video Title                                0\n",
            "Channel URL                                0\n",
            "Creator Name                              11\n",
            "Creator Gender                           314\n",
            "Total Channel Subcribers                   0\n",
            "Total Chanel Views                         0\n",
            "Duration of Video                          0\n",
            "Duration in Seconds                        0\n",
            "Date of Video Upload                       0\n",
            "No of Likes                                1\n",
            "Language of the Video                     21\n",
            "Subtitle                                   1\n",
            "Video Description                          0\n",
            "Hashtags                                   0\n",
            "No of Comments                             0\n",
            "Date of the Last Comment                  24\n",
            "Maximum Quality of the Video               0\n",
            "No of Videos the Channel                   0\n",
            "No of Playlist                             9\n",
            "Premiered or Not                           0\n",
            "Community Engagement (Posts per week)      0\n",
            "Intern Who Collected the Data              0\n",
            "dtype: int64\n"
          ]
        }
      ]
    },
    {
      "cell_type": "code",
      "source": [
        "df.columns = df.columns.str.replace(' ', '_')"
      ],
      "metadata": {
        "id": "LyYNVCG_J79s"
      },
      "execution_count": 14,
      "outputs": []
    },
    {
      "cell_type": "code",
      "source": [
        "#Replacing all the null values with not_available in all the columns\n",
        "df.fillna(0, inplace=True)"
      ],
      "metadata": {
        "id": "1OFk0bBOrUuL"
      },
      "execution_count": 15,
      "outputs": []
    },
    {
      "cell_type": "code",
      "source": [
        "#Column wise null values\n",
        "null_values = df.isnull().sum()\n",
        "print(null_values)"
      ],
      "metadata": {
        "colab": {
          "base_uri": "https://localhost:8080/"
        },
        "id": "1v5fROneruND",
        "outputId": "48968966-560b-46a0-ea36-a487efdd139c"
      },
      "execution_count": 16,
      "outputs": [
        {
          "output_type": "stream",
          "name": "stdout",
          "text": [
            "Video_Link                               0\n",
            "Video_Views                              0\n",
            "Video_Title                              0\n",
            "Channel_URL                              0\n",
            "Creator_Name                             0\n",
            "Creator_Gender                           0\n",
            "Total_Channel_Subcribers                 0\n",
            "Total_Chanel_Views                       0\n",
            "Duration_of_Video                        0\n",
            "Duration_in_Seconds                      0\n",
            "Date_of_Video_Upload                     0\n",
            "No_of_Likes                              0\n",
            "Language_of_the_Video                    0\n",
            "Subtitle                                 0\n",
            "Video_Description                        0\n",
            "Hashtags                                 0\n",
            "No_of_Comments                           0\n",
            "Date_of_the_Last_Comment                 0\n",
            "Maximum_Quality_of_the_Video             0\n",
            "No_of_Videos_the_Channel                 0\n",
            "No_of_Playlist                           0\n",
            "Premiered_or_Not                         0\n",
            "Community_Engagement_(Posts_per_week)    0\n",
            "Intern_Who_Collected_the_Data            0\n",
            "dtype: int64\n"
          ]
        }
      ]
    },
    {
      "cell_type": "code",
      "source": [
        "# list(data) or\n",
        "print(df.keys())"
      ],
      "metadata": {
        "colab": {
          "base_uri": "https://localhost:8080/"
        },
        "id": "pb1KpaDSLMpc",
        "outputId": "86654878-056d-42b0-f10e-0b879870053f"
      },
      "execution_count": 17,
      "outputs": [
        {
          "output_type": "stream",
          "name": "stdout",
          "text": [
            "Index(['Video_Link', 'Video_Views', 'Video_Title', 'Channel_URL',\n",
            "       'Creator_Name', 'Creator_Gender', 'Total_Channel_Subcribers',\n",
            "       'Total_Chanel_Views', 'Duration_of_Video', 'Duration_in_Seconds',\n",
            "       'Date_of_Video_Upload', 'No_of_Likes', 'Language_of_the_Video',\n",
            "       'Subtitle', 'Video_Description', 'Hashtags', 'No_of_Comments',\n",
            "       'Date_of_the_Last_Comment', 'Maximum_Quality_of_the_Video',\n",
            "       'No_of_Videos_the_Channel', 'No_of_Playlist', 'Premiered_or_Not',\n",
            "       'Community_Engagement_(Posts_per_week)',\n",
            "       'Intern_Who_Collected_the_Data'],\n",
            "      dtype='object')\n"
          ]
        }
      ]
    },
    {
      "cell_type": "markdown",
      "source": [
        "The column that might be irrelevent is the intern column who collected the data."
      ],
      "metadata": {
        "id": "0wC27cfADmZT"
      }
    },
    {
      "cell_type": "code",
      "source": [
        "df.drop(columns=[\"Intern_Who_Collected_the_Data\"], inplace=True)"
      ],
      "metadata": {
        "id": "tvcYyPlis7yD"
      },
      "execution_count": 18,
      "outputs": []
    },
    {
      "cell_type": "code",
      "source": [
        "print(df.keys())"
      ],
      "metadata": {
        "colab": {
          "base_uri": "https://localhost:8080/"
        },
        "id": "7sGa9xIrswW-",
        "outputId": "0d91e2c0-25f7-4b93-cb15-c8c4656118cb"
      },
      "execution_count": 19,
      "outputs": [
        {
          "output_type": "stream",
          "name": "stdout",
          "text": [
            "Index(['Video_Link', 'Video_Views', 'Video_Title', 'Channel_URL',\n",
            "       'Creator_Name', 'Creator_Gender', 'Total_Channel_Subcribers',\n",
            "       'Total_Chanel_Views', 'Duration_of_Video', 'Duration_in_Seconds',\n",
            "       'Date_of_Video_Upload', 'No_of_Likes', 'Language_of_the_Video',\n",
            "       'Subtitle', 'Video_Description', 'Hashtags', 'No_of_Comments',\n",
            "       'Date_of_the_Last_Comment', 'Maximum_Quality_of_the_Video',\n",
            "       'No_of_Videos_the_Channel', 'No_of_Playlist', 'Premiered_or_Not',\n",
            "       'Community_Engagement_(Posts_per_week)'],\n",
            "      dtype='object')\n"
          ]
        }
      ]
    },
    {
      "cell_type": "code",
      "source": [
        "df['Creator_Gender'].replace(['Female','Male'],[0,1],inplace=True)\n",
        "df['Subtitle'].replace(['No','Yes'],[0,1],inplace=True)\n",
        "df['Video_Description'].replace(['No','Yes'],[0,1],inplace=True)\n",
        "df['Premiered_or_Not'].replace(['No','Yes'],[0,1],inplace=True)"
      ],
      "metadata": {
        "id": "8aOkUZfWBXt8"
      },
      "execution_count": 21,
      "outputs": []
    },
    {
      "cell_type": "code",
      "source": [
        "print(df)"
      ],
      "metadata": {
        "id": "3TuO8Z5RBYtY",
        "outputId": "54a55e01-f2a4-40e9-aa9e-ad5d7d504310",
        "colab": {
          "base_uri": "https://localhost:8080/"
        }
      },
      "execution_count": 22,
      "outputs": [
        {
          "output_type": "stream",
          "name": "stdout",
          "text": [
            "                                            Video_Link Video_Views  \\\n",
            "0          https://www.youtube.com/watch?v=_0fUOJ55gis     146,059   \n",
            "1          https://www.youtube.com/watch?v=_70MSLPRfZI     231,969   \n",
            "2    https://www.youtube.com/watch?v=_8gfCdt3H00&t=87s         878   \n",
            "3          https://www.youtube.com/watch?v=_CkFNJgKsFs       9,965   \n",
            "4          https://www.youtube.com/watch?v=_GFkHA5EZdE  39,780,561   \n",
            "..                                                 ...         ...   \n",
            "900        https://www.youtube.com/watch?v=GS18WawA-t0       6,892   \n",
            "901        https://www.youtube.com/watch?v=_tc_APkjH2Q      16,554   \n",
            "902        https://www.youtube.com/watch?v=Xfj4osSYfhU      32,798   \n",
            "903        https://www.youtube.com/watch?v=mGEHqwVz0eI       1,503   \n",
            "904        https://www.youtube.com/watch?v=UGATpt0I4vA     429,966   \n",
            "\n",
            "                                           Video_Title  \\\n",
            "0      Samse - Didupe Off-road Royal Enfield Himalayan   \n",
            "1                             Bhoom Baddhal Web Series   \n",
            "2    Customer Psychology, Four Views Of Consumer De...   \n",
            "3       Top countries with proven natural gas reserves   \n",
            "4                       73 Questions With Selena Gomez   \n",
            "..                                                 ...   \n",
            "900  Calming mashup of Islamic Nasheed 2022 | Isami...   \n",
            "901                           Amchi Nawayat Mehfil hee   \n",
            "902                                      Aas ge Kaagaz   \n",
            "903  Anjuman Tarana by ABHS Students | Anjuman Anju...   \n",
            "904  Jhulan Goswami Final Over in ODIs | ENG vs IND...   \n",
            "\n",
            "                                           Channel_URL          Creator_Name  \\\n",
            "0                  https://www.youtube.com/c/sriharick            srihari ck   \n",
            "1           https://www.youtube.com/c/ChaibisketTelugu           Chai Bisket   \n",
            "2    https://www.youtube.com/channel/UCcIUnCsBfONvb...           Virda Warsi   \n",
            "3                   https://www.youtube.com/c/trtworld                   TRT   \n",
            "4                                      Vogue - YouTube                 Vogue   \n",
            "..                                                 ...                   ...   \n",
            "900        https://www.youtube.com/c/SahilOnlineTVnews  Sahil Online TV News   \n",
            "901                https://www.youtube.com/sahilonline  Sahil Online TV News   \n",
            "902                https://www.youtube.com/sahilonline  Sahil Online Bhatkal   \n",
            "903                https://www.youtube.com/sahilonline  Sahil Online Bhatkal   \n",
            "904        https://www.youtube.com/c/SonySportsNetwork   Sony Sports Network   \n",
            "\n",
            "    Creator_Gender Total_Channel_Subcribers Total_Chanel_Views  \\\n",
            "0                1                    40200            7964284   \n",
            "1                1                   920000          137535681   \n",
            "2                0                      458              72945   \n",
            "3                0                  1680000          541653219   \n",
            "4                0                 12100000         3600496171   \n",
            "..             ...                      ...                ...   \n",
            "900              0                   594000          129926690   \n",
            "901              0                   594000          129926690   \n",
            "902              0                    23500            5104872   \n",
            "903              0                    23500            5104872   \n",
            "904              0                  3980000          728858923   \n",
            "\n",
            "    Duration_of_Video Duration_in_Seconds  ... Subtitle  Video_Description  \\\n",
            "0           00:30:41             1,841.00  ...        0                  1   \n",
            "1           00:14:24               864.00  ...        0                  1   \n",
            "2             0:08:12              492.00  ...        0                  1   \n",
            "3             0:01:06               66.00  ...        0                  1   \n",
            "4             0:07:40              460.00  ...      yes                  1   \n",
            "..                ...                 ...  ...      ...                ...   \n",
            "900          00:13:47              827.00  ...        0                  1   \n",
            "901          00:06:44              404.00  ...        0                  1   \n",
            "902          00:06:24              384.00  ...        0                  1   \n",
            "903          00:04:39              279.00  ...        0                  1   \n",
            "904          00:01:21               81.00  ...        1                  1   \n",
            "\n",
            "    Hashtags No_of_Comments Date_of_the_Last_Comment  \\\n",
            "0          0            419                 8/6/2022   \n",
            "1          1            189                6/15/2022   \n",
            "2          0              0                        0   \n",
            "3          0             77                9/22/2022   \n",
            "4          0          28221                9/23/2022   \n",
            "..       ...            ...                      ...   \n",
            "900        0             15                10/4/2022   \n",
            "901        2              0                10/4/2022   \n",
            "902        3              0                 8/4/2022   \n",
            "903        3              0                 8/4/2022   \n",
            "904        3              0                10/4/2022   \n",
            "\n",
            "     Maximum_Quality_of_the_Video No_of_Videos_the_Channel No_of_Playlist  \\\n",
            "0                            1080                      462           12.0   \n",
            "1                            1080                      251           12.0   \n",
            "2                             720                      158            0.0   \n",
            "3                            1080                    46509           48.0   \n",
            "4                            1080                     2872          113.0   \n",
            "..                            ...                      ...            ...   \n",
            "900                          1080                     5024           36.0   \n",
            "901                           720                     5024           36.0   \n",
            "902                           720                     1018           13.0   \n",
            "903                          1080                     1018           13.0   \n",
            "904                          1080                     3014          124.0   \n",
            "\n",
            "     Premiered_or_Not  Community_Engagement_(Posts_per_week)  \n",
            "0                   0                                      1  \n",
            "1                   1                                      2  \n",
            "2                   0                                      0  \n",
            "3                   0                                     20  \n",
            "4                   0                                      1  \n",
            "..                ...                                    ...  \n",
            "900                 0                                      1  \n",
            "901                 0                                      1  \n",
            "902                 0                                      1  \n",
            "903                 0                                      1  \n",
            "904                 0                                      0  \n",
            "\n",
            "[905 rows x 23 columns]\n"
          ]
        }
      ]
    }
  ]
}