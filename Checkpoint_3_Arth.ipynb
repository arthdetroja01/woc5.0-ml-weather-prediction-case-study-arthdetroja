{
  "nbformat": 4,
  "nbformat_minor": 0,
  "metadata": {
    "colab": {
      "provenance": [],
      "toc_visible": true,
      "authorship_tag": "ABX9TyNTkispgNmfm0qXEMkGI+WH",
      "include_colab_link": true
    },
    "kernelspec": {
      "name": "python3",
      "display_name": "Python 3"
    },
    "language_info": {
      "name": "python"
    }
  },
  "cells": [
    {
      "cell_type": "markdown",
      "metadata": {
        "id": "view-in-github",
        "colab_type": "text"
      },
      "source": [
        "<a href=\"https://colab.research.google.com/github/tomCodes01/woc5.0-ml-weather-prediction-case-study-arthdetroja/blob/main/Checkpoint_3_Arth.ipynb\" target=\"_parent\"><img src=\"https://colab.research.google.com/assets/colab-badge.svg\" alt=\"Open In Colab\"/></a>"
      ]
    },
    {
      "cell_type": "code",
      "execution_count": 44,
      "metadata": {
        "id": "v9jQF0GO9krU"
      },
      "outputs": [],
      "source": [
        "import pandas as pd\n",
        "url = 'https://raw.githubusercontent.com/tomCodes01/woc5.0-ml-weather-prediction-case-study-arthdetroja/main/Youtube%20Influencer%20Analysis%20-%20Updated.csv'\n",
        "df = pd.read_csv(url,sep=\",\", encoding='cp1252')\n",
        "#print(df)"
      ]
    },
    {
      "cell_type": "code",
      "source": [
        "#Column wise null values\n",
        "null_values = df.isnull().sum()\n",
        "print(null_values)"
      ],
      "metadata": {
        "colab": {
          "base_uri": "https://localhost:8080/"
        },
        "id": "hMTgk9sHB1As",
        "outputId": "ca904dce-24f5-4596-eb72-74bcdf75e6da"
      },
      "execution_count": 45,
      "outputs": [
        {
          "output_type": "stream",
          "name": "stdout",
          "text": [
            "Video Link                                 0\n",
            "Video Views                                0\n",
            "Video Title                                0\n",
            "Channel URL                                0\n",
            "Creator Name                              11\n",
            "Creator Gender                           314\n",
            "Total Channel Subcribers                   0\n",
            "Total Chanel Views                         0\n",
            "Duration of Video                          0\n",
            "Duration in Seconds                        0\n",
            "Date of Video Upload                       0\n",
            "No of Likes                                1\n",
            "Language of the Video                     21\n",
            "Subtitle                                   1\n",
            "Video Description                          0\n",
            "Hashtags                                   0\n",
            "No of Comments                             0\n",
            "Date of the Last Comment                  24\n",
            "Maximum Quality of the Video               0\n",
            "No of Videos the Channel                   0\n",
            "No of Playlist                             9\n",
            "Premiered or Not                           0\n",
            "Community Engagement (Posts per week)      0\n",
            "Intern Who Collected the Data              0\n",
            "dtype: int64\n"
          ]
        }
      ]
    },
    {
      "cell_type": "code",
      "source": [
        "df.columns = df.columns.str.replace(' ', '_')"
      ],
      "metadata": {
        "id": "LyYNVCG_J79s"
      },
      "execution_count": 30,
      "outputs": []
    },
    {
      "cell_type": "code",
      "source": [
        "#Replacing all the null values with not_available in all the columns\n",
        "df.fillna(0, inplace=True)"
      ],
      "metadata": {
        "id": "1OFk0bBOrUuL"
      },
      "execution_count": 46,
      "outputs": []
    },
    {
      "cell_type": "code",
      "source": [
        "#Column wise null values\n",
        "null_values = df.isnull().sum()\n",
        "print(null_values)"
      ],
      "metadata": {
        "colab": {
          "base_uri": "https://localhost:8080/"
        },
        "id": "1v5fROneruND",
        "outputId": "139233b3-8c59-49b6-952a-291a6a731878"
      },
      "execution_count": 47,
      "outputs": [
        {
          "output_type": "stream",
          "name": "stdout",
          "text": [
            "Video Link                               0\n",
            "Video Views                              0\n",
            "Video Title                              0\n",
            "Channel URL                              0\n",
            "Creator Name                             0\n",
            "Creator Gender                           0\n",
            "Total Channel Subcribers                 0\n",
            "Total Chanel Views                       0\n",
            "Duration of Video                        0\n",
            "Duration in Seconds                      0\n",
            "Date of Video Upload                     0\n",
            "No of Likes                              0\n",
            "Language of the Video                    0\n",
            "Subtitle                                 0\n",
            "Video Description                        0\n",
            "Hashtags                                 0\n",
            "No of Comments                           0\n",
            "Date of the Last Comment                 0\n",
            "Maximum Quality of the Video             0\n",
            "No of Videos the Channel                 0\n",
            "No of Playlist                           0\n",
            "Premiered or Not                         0\n",
            "Community Engagement (Posts per week)    0\n",
            "Intern Who Collected the Data            0\n",
            "dtype: int64\n"
          ]
        }
      ]
    },
    {
      "cell_type": "code",
      "source": [
        "# list(data) or\n",
        "print(df.keys())"
      ],
      "metadata": {
        "colab": {
          "base_uri": "https://localhost:8080/"
        },
        "id": "pb1KpaDSLMpc",
        "outputId": "5f756579-0fba-4bd0-800a-efcc094f3f0f"
      },
      "execution_count": 48,
      "outputs": [
        {
          "output_type": "stream",
          "name": "stdout",
          "text": [
            "Index(['Video Link', 'Video Views', 'Video Title', 'Channel URL',\n",
            "       'Creator Name', 'Creator Gender', 'Total Channel Subcribers',\n",
            "       'Total Chanel Views', 'Duration of Video', 'Duration in Seconds',\n",
            "       'Date of Video Upload', 'No of Likes', 'Language of the Video',\n",
            "       'Subtitle', 'Video Description', 'Hashtags', 'No of Comments',\n",
            "       'Date of the Last Comment', 'Maximum Quality of the Video',\n",
            "       'No of Videos the Channel', 'No of Playlist', 'Premiered or Not',\n",
            "       'Community Engagement (Posts per week)',\n",
            "       'Intern Who Collected the Data'],\n",
            "      dtype='object')\n"
          ]
        }
      ]
    },
    {
      "cell_type": "markdown",
      "source": [
        "The column that might be irrelevent is the intern column who collected the data."
      ],
      "metadata": {
        "id": "0wC27cfADmZT"
      }
    },
    {
      "cell_type": "code",
      "source": [
        "df.drop(columns=[\"Intern Who Collected the Data\"], inplace=True)"
      ],
      "metadata": {
        "id": "tvcYyPlis7yD"
      },
      "execution_count": 49,
      "outputs": []
    },
    {
      "cell_type": "code",
      "source": [
        "print(df.keys())"
      ],
      "metadata": {
        "colab": {
          "base_uri": "https://localhost:8080/"
        },
        "id": "7sGa9xIrswW-",
        "outputId": "366eee86-5041-4c81-c407-6fcd3f078230"
      },
      "execution_count": 50,
      "outputs": [
        {
          "output_type": "stream",
          "name": "stdout",
          "text": [
            "Index(['Video Link', 'Video Views', 'Video Title', 'Channel URL',\n",
            "       'Creator Name', 'Creator Gender', 'Total Channel Subcribers',\n",
            "       'Total Chanel Views', 'Duration of Video', 'Duration in Seconds',\n",
            "       'Date of Video Upload', 'No of Likes', 'Language of the Video',\n",
            "       'Subtitle', 'Video Description', 'Hashtags', 'No of Comments',\n",
            "       'Date of the Last Comment', 'Maximum Quality of the Video',\n",
            "       'No of Videos the Channel', 'No of Playlist', 'Premiered or Not',\n",
            "       'Community Engagement (Posts per week)'],\n",
            "      dtype='object')\n"
          ]
        }
      ]
    }
  ]
}